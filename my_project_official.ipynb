{
 "cells": [
  {
   "cell_type": "code",
   "execution_count": 1,
   "metadata": {},
   "outputs": [],
   "source": [
    "%matplotlib inline"
   ]
  },
  {
   "cell_type": "markdown",
   "metadata": {},
   "source": [
    "# Can I detect and predict facial keypoints?\n",
    "(or how to deal with images)\n",
    "\n",
    "My project for the remote course \"Machine Learning\" at SoftUni\n",
    "\n",
    "tuitor: Yordan Darakchiev \n",
    "\n",
    "august - november 2022\n",
    "\n",
    "**Abstract**\n",
    "\n",
    "Based on a [kaggle competition set]('www.kaggle.com/competitions/facial-keypoints-detection') I try to demonstrate different techniques of machine lerning. The final goal is to be predicted 15 facial points on face images. \n",
    "\n",
    "## 1. Data processing\n",
    "### 1.1. Importing nesseccery libraries"
   ]
  },
  {
   "cell_type": "code",
   "execution_count": 2,
   "metadata": {},
   "outputs": [],
   "source": [
    "import pandas as pd\n",
    "import numpy as np\n",
    "import matplotlib.pyplot as plt\n",
    "\n",
    "from sklearn.impute import SimpleImputer\n",
    "from sklearn. preprocessing import MinMaxScaler, StandardScaler, RobustScaler\n",
    "from sklearn.model_selection import train_test_split\n",
    "from sklearn.cluster import KMeans, AgglomerativeClustering\n",
    "from sklearn.svm import LinearSVC\n",
    "\n",
    "from scipy.spatial import distance_matrix\n",
    "\n",
    "from sklearn.pipeline import make_pipeline\n",
    "from scipy.sparse import csr_matrix"
   ]
  },
  {
   "cell_type": "markdown",
   "metadata": {},
   "source": [
    "### 1.2. Reading and exploaring data\n",
    "\n",
    "Retrieveing data as pd.DataFrame and taking first view into datasets.\n",
    "\n",
    "**Train set**:"
   ]
  },
  {
   "cell_type": "code",
   "execution_count": 3,
   "metadata": {},
   "outputs": [
    {
     "data": {
      "text/html": [
       "<div>\n",
       "<style scoped>\n",
       "    .dataframe tbody tr th:only-of-type {\n",
       "        vertical-align: middle;\n",
       "    }\n",
       "\n",
       "    .dataframe tbody tr th {\n",
       "        vertical-align: top;\n",
       "    }\n",
       "\n",
       "    .dataframe thead th {\n",
       "        text-align: right;\n",
       "    }\n",
       "</style>\n",
       "<table border=\"1\" class=\"dataframe\">\n",
       "  <thead>\n",
       "    <tr style=\"text-align: right;\">\n",
       "      <th></th>\n",
       "      <th>0</th>\n",
       "      <th>1</th>\n",
       "      <th>2</th>\n",
       "    </tr>\n",
       "  </thead>\n",
       "  <tbody>\n",
       "    <tr>\n",
       "      <th>left_eye_center_x</th>\n",
       "      <td>66.033564</td>\n",
       "      <td>64.332936</td>\n",
       "      <td>65.057053</td>\n",
       "    </tr>\n",
       "    <tr>\n",
       "      <th>left_eye_center_y</th>\n",
       "      <td>39.002274</td>\n",
       "      <td>34.970077</td>\n",
       "      <td>34.909642</td>\n",
       "    </tr>\n",
       "    <tr>\n",
       "      <th>right_eye_center_x</th>\n",
       "      <td>30.227008</td>\n",
       "      <td>29.949277</td>\n",
       "      <td>30.903789</td>\n",
       "    </tr>\n",
       "    <tr>\n",
       "      <th>right_eye_center_y</th>\n",
       "      <td>36.421678</td>\n",
       "      <td>33.448715</td>\n",
       "      <td>34.909642</td>\n",
       "    </tr>\n",
       "    <tr>\n",
       "      <th>left_eye_inner_corner_x</th>\n",
       "      <td>59.582075</td>\n",
       "      <td>58.85617</td>\n",
       "      <td>59.412</td>\n",
       "    </tr>\n",
       "    <tr>\n",
       "      <th>left_eye_inner_corner_y</th>\n",
       "      <td>39.647423</td>\n",
       "      <td>35.274349</td>\n",
       "      <td>36.320968</td>\n",
       "    </tr>\n",
       "    <tr>\n",
       "      <th>left_eye_outer_corner_x</th>\n",
       "      <td>73.130346</td>\n",
       "      <td>70.722723</td>\n",
       "      <td>70.984421</td>\n",
       "    </tr>\n",
       "    <tr>\n",
       "      <th>left_eye_outer_corner_y</th>\n",
       "      <td>39.969997</td>\n",
       "      <td>36.187166</td>\n",
       "      <td>36.320968</td>\n",
       "    </tr>\n",
       "    <tr>\n",
       "      <th>right_eye_inner_corner_x</th>\n",
       "      <td>36.356571</td>\n",
       "      <td>36.034723</td>\n",
       "      <td>37.678105</td>\n",
       "    </tr>\n",
       "    <tr>\n",
       "      <th>right_eye_inner_corner_y</th>\n",
       "      <td>37.389402</td>\n",
       "      <td>34.361532</td>\n",
       "      <td>36.320968</td>\n",
       "    </tr>\n",
       "    <tr>\n",
       "      <th>right_eye_outer_corner_x</th>\n",
       "      <td>23.452872</td>\n",
       "      <td>24.472511</td>\n",
       "      <td>24.976421</td>\n",
       "    </tr>\n",
       "    <tr>\n",
       "      <th>right_eye_outer_corner_y</th>\n",
       "      <td>37.389402</td>\n",
       "      <td>33.144443</td>\n",
       "      <td>36.603221</td>\n",
       "    </tr>\n",
       "    <tr>\n",
       "      <th>left_eyebrow_inner_end_x</th>\n",
       "      <td>56.953263</td>\n",
       "      <td>53.987404</td>\n",
       "      <td>55.742526</td>\n",
       "    </tr>\n",
       "    <tr>\n",
       "      <th>left_eyebrow_inner_end_y</th>\n",
       "      <td>29.033648</td>\n",
       "      <td>28.275949</td>\n",
       "      <td>27.570947</td>\n",
       "    </tr>\n",
       "    <tr>\n",
       "      <th>left_eyebrow_outer_end_x</th>\n",
       "      <td>80.227128</td>\n",
       "      <td>78.634213</td>\n",
       "      <td>78.887368</td>\n",
       "    </tr>\n",
       "    <tr>\n",
       "      <th>left_eyebrow_outer_end_y</th>\n",
       "      <td>32.228138</td>\n",
       "      <td>30.405923</td>\n",
       "      <td>32.651621</td>\n",
       "    </tr>\n",
       "    <tr>\n",
       "      <th>right_eyebrow_inner_end_x</th>\n",
       "      <td>40.227609</td>\n",
       "      <td>42.728851</td>\n",
       "      <td>42.193895</td>\n",
       "    </tr>\n",
       "    <tr>\n",
       "      <th>right_eyebrow_inner_end_y</th>\n",
       "      <td>29.002322</td>\n",
       "      <td>26.146043</td>\n",
       "      <td>28.135453</td>\n",
       "    </tr>\n",
       "    <tr>\n",
       "      <th>right_eyebrow_outer_end_x</th>\n",
       "      <td>16.356379</td>\n",
       "      <td>16.865362</td>\n",
       "      <td>16.791158</td>\n",
       "    </tr>\n",
       "    <tr>\n",
       "      <th>right_eyebrow_outer_end_y</th>\n",
       "      <td>29.647471</td>\n",
       "      <td>27.05886</td>\n",
       "      <td>32.087116</td>\n",
       "    </tr>\n",
       "    <tr>\n",
       "      <th>nose_tip_x</th>\n",
       "      <td>44.420571</td>\n",
       "      <td>48.206298</td>\n",
       "      <td>47.557263</td>\n",
       "    </tr>\n",
       "    <tr>\n",
       "      <th>nose_tip_y</th>\n",
       "      <td>57.066803</td>\n",
       "      <td>55.660936</td>\n",
       "      <td>53.538947</td>\n",
       "    </tr>\n",
       "    <tr>\n",
       "      <th>mouth_left_corner_x</th>\n",
       "      <td>61.195308</td>\n",
       "      <td>56.421447</td>\n",
       "      <td>60.822947</td>\n",
       "    </tr>\n",
       "    <tr>\n",
       "      <th>mouth_left_corner_y</th>\n",
       "      <td>79.970165</td>\n",
       "      <td>76.352</td>\n",
       "      <td>73.014316</td>\n",
       "    </tr>\n",
       "    <tr>\n",
       "      <th>mouth_right_corner_x</th>\n",
       "      <td>28.614496</td>\n",
       "      <td>35.122383</td>\n",
       "      <td>33.726316</td>\n",
       "    </tr>\n",
       "    <tr>\n",
       "      <th>mouth_right_corner_y</th>\n",
       "      <td>77.388992</td>\n",
       "      <td>76.04766</td>\n",
       "      <td>72.732</td>\n",
       "    </tr>\n",
       "    <tr>\n",
       "      <th>mouth_center_top_lip_x</th>\n",
       "      <td>43.312602</td>\n",
       "      <td>46.684596</td>\n",
       "      <td>47.274947</td>\n",
       "    </tr>\n",
       "    <tr>\n",
       "      <th>mouth_center_top_lip_y</th>\n",
       "      <td>72.935459</td>\n",
       "      <td>70.266553</td>\n",
       "      <td>70.191789</td>\n",
       "    </tr>\n",
       "    <tr>\n",
       "      <th>mouth_center_bottom_lip_x</th>\n",
       "      <td>43.130707</td>\n",
       "      <td>45.467915</td>\n",
       "      <td>47.274947</td>\n",
       "    </tr>\n",
       "    <tr>\n",
       "      <th>mouth_center_bottom_lip_y</th>\n",
       "      <td>84.485774</td>\n",
       "      <td>85.48017</td>\n",
       "      <td>78.659368</td>\n",
       "    </tr>\n",
       "    <tr>\n",
       "      <th>Image</th>\n",
       "      <td>238 236 237 238 240 240 239 241 241 243 240 23...</td>\n",
       "      <td>219 215 204 196 204 211 212 200 180 168 178 19...</td>\n",
       "      <td>144 142 159 180 188 188 184 180 167 132 84 59 ...</td>\n",
       "    </tr>\n",
       "  </tbody>\n",
       "</table>\n",
       "</div>"
      ],
      "text/plain": [
       "                                                                           0  \\\n",
       "left_eye_center_x                                                  66.033564   \n",
       "left_eye_center_y                                                  39.002274   \n",
       "right_eye_center_x                                                 30.227008   \n",
       "right_eye_center_y                                                 36.421678   \n",
       "left_eye_inner_corner_x                                            59.582075   \n",
       "left_eye_inner_corner_y                                            39.647423   \n",
       "left_eye_outer_corner_x                                            73.130346   \n",
       "left_eye_outer_corner_y                                            39.969997   \n",
       "right_eye_inner_corner_x                                           36.356571   \n",
       "right_eye_inner_corner_y                                           37.389402   \n",
       "right_eye_outer_corner_x                                           23.452872   \n",
       "right_eye_outer_corner_y                                           37.389402   \n",
       "left_eyebrow_inner_end_x                                           56.953263   \n",
       "left_eyebrow_inner_end_y                                           29.033648   \n",
       "left_eyebrow_outer_end_x                                           80.227128   \n",
       "left_eyebrow_outer_end_y                                           32.228138   \n",
       "right_eyebrow_inner_end_x                                          40.227609   \n",
       "right_eyebrow_inner_end_y                                          29.002322   \n",
       "right_eyebrow_outer_end_x                                          16.356379   \n",
       "right_eyebrow_outer_end_y                                          29.647471   \n",
       "nose_tip_x                                                         44.420571   \n",
       "nose_tip_y                                                         57.066803   \n",
       "mouth_left_corner_x                                                61.195308   \n",
       "mouth_left_corner_y                                                79.970165   \n",
       "mouth_right_corner_x                                               28.614496   \n",
       "mouth_right_corner_y                                               77.388992   \n",
       "mouth_center_top_lip_x                                             43.312602   \n",
       "mouth_center_top_lip_y                                             72.935459   \n",
       "mouth_center_bottom_lip_x                                          43.130707   \n",
       "mouth_center_bottom_lip_y                                          84.485774   \n",
       "Image                      238 236 237 238 240 240 239 241 241 243 240 23...   \n",
       "\n",
       "                                                                           1  \\\n",
       "left_eye_center_x                                                  64.332936   \n",
       "left_eye_center_y                                                  34.970077   \n",
       "right_eye_center_x                                                 29.949277   \n",
       "right_eye_center_y                                                 33.448715   \n",
       "left_eye_inner_corner_x                                             58.85617   \n",
       "left_eye_inner_corner_y                                            35.274349   \n",
       "left_eye_outer_corner_x                                            70.722723   \n",
       "left_eye_outer_corner_y                                            36.187166   \n",
       "right_eye_inner_corner_x                                           36.034723   \n",
       "right_eye_inner_corner_y                                           34.361532   \n",
       "right_eye_outer_corner_x                                           24.472511   \n",
       "right_eye_outer_corner_y                                           33.144443   \n",
       "left_eyebrow_inner_end_x                                           53.987404   \n",
       "left_eyebrow_inner_end_y                                           28.275949   \n",
       "left_eyebrow_outer_end_x                                           78.634213   \n",
       "left_eyebrow_outer_end_y                                           30.405923   \n",
       "right_eyebrow_inner_end_x                                          42.728851   \n",
       "right_eyebrow_inner_end_y                                          26.146043   \n",
       "right_eyebrow_outer_end_x                                          16.865362   \n",
       "right_eyebrow_outer_end_y                                           27.05886   \n",
       "nose_tip_x                                                         48.206298   \n",
       "nose_tip_y                                                         55.660936   \n",
       "mouth_left_corner_x                                                56.421447   \n",
       "mouth_left_corner_y                                                   76.352   \n",
       "mouth_right_corner_x                                               35.122383   \n",
       "mouth_right_corner_y                                                76.04766   \n",
       "mouth_center_top_lip_x                                             46.684596   \n",
       "mouth_center_top_lip_y                                             70.266553   \n",
       "mouth_center_bottom_lip_x                                          45.467915   \n",
       "mouth_center_bottom_lip_y                                           85.48017   \n",
       "Image                      219 215 204 196 204 211 212 200 180 168 178 19...   \n",
       "\n",
       "                                                                           2  \n",
       "left_eye_center_x                                                  65.057053  \n",
       "left_eye_center_y                                                  34.909642  \n",
       "right_eye_center_x                                                 30.903789  \n",
       "right_eye_center_y                                                 34.909642  \n",
       "left_eye_inner_corner_x                                               59.412  \n",
       "left_eye_inner_corner_y                                            36.320968  \n",
       "left_eye_outer_corner_x                                            70.984421  \n",
       "left_eye_outer_corner_y                                            36.320968  \n",
       "right_eye_inner_corner_x                                           37.678105  \n",
       "right_eye_inner_corner_y                                           36.320968  \n",
       "right_eye_outer_corner_x                                           24.976421  \n",
       "right_eye_outer_corner_y                                           36.603221  \n",
       "left_eyebrow_inner_end_x                                           55.742526  \n",
       "left_eyebrow_inner_end_y                                           27.570947  \n",
       "left_eyebrow_outer_end_x                                           78.887368  \n",
       "left_eyebrow_outer_end_y                                           32.651621  \n",
       "right_eyebrow_inner_end_x                                          42.193895  \n",
       "right_eyebrow_inner_end_y                                          28.135453  \n",
       "right_eyebrow_outer_end_x                                          16.791158  \n",
       "right_eyebrow_outer_end_y                                          32.087116  \n",
       "nose_tip_x                                                         47.557263  \n",
       "nose_tip_y                                                         53.538947  \n",
       "mouth_left_corner_x                                                60.822947  \n",
       "mouth_left_corner_y                                                73.014316  \n",
       "mouth_right_corner_x                                               33.726316  \n",
       "mouth_right_corner_y                                                  72.732  \n",
       "mouth_center_top_lip_x                                             47.274947  \n",
       "mouth_center_top_lip_y                                             70.191789  \n",
       "mouth_center_bottom_lip_x                                          47.274947  \n",
       "mouth_center_bottom_lip_y                                          78.659368  \n",
       "Image                      144 142 159 180 188 188 184 180 167 132 84 59 ...  "
      ]
     },
     "execution_count": 3,
     "metadata": {},
     "output_type": "execute_result"
    }
   ],
   "source": [
    "X_train = pd.read_csv('training.csv')\n",
    "X_train.shape # (7049, 31)\n",
    "\n",
    "# Display first 3 rows(observations) transposed\n",
    "X_train.head(3).T"
   ]
  },
  {
   "cell_type": "code",
   "execution_count": 4,
   "metadata": {},
   "outputs": [],
   "source": [
    "assert X_train.shape == (7049, 31)"
   ]
  },
  {
   "cell_type": "code",
   "execution_count": 5,
   "metadata": {},
   "outputs": [
    {
     "data": {
      "text/plain": [
       "left_eye_center_x            float64\n",
       "left_eye_center_y            float64\n",
       "right_eye_center_x           float64\n",
       "right_eye_center_y           float64\n",
       "left_eye_inner_corner_x      float64\n",
       "left_eye_inner_corner_y      float64\n",
       "left_eye_outer_corner_x      float64\n",
       "left_eye_outer_corner_y      float64\n",
       "right_eye_inner_corner_x     float64\n",
       "right_eye_inner_corner_y     float64\n",
       "right_eye_outer_corner_x     float64\n",
       "right_eye_outer_corner_y     float64\n",
       "left_eyebrow_inner_end_x     float64\n",
       "left_eyebrow_inner_end_y     float64\n",
       "left_eyebrow_outer_end_x     float64\n",
       "left_eyebrow_outer_end_y     float64\n",
       "right_eyebrow_inner_end_x    float64\n",
       "right_eyebrow_inner_end_y    float64\n",
       "right_eyebrow_outer_end_x    float64\n",
       "right_eyebrow_outer_end_y    float64\n",
       "nose_tip_x                   float64\n",
       "nose_tip_y                   float64\n",
       "mouth_left_corner_x          float64\n",
       "mouth_left_corner_y          float64\n",
       "mouth_right_corner_x         float64\n",
       "mouth_right_corner_y         float64\n",
       "mouth_center_top_lip_x       float64\n",
       "mouth_center_top_lip_y       float64\n",
       "mouth_center_bottom_lip_x    float64\n",
       "mouth_center_bottom_lip_y    float64\n",
       "Image                         object\n",
       "dtype: object"
      ]
     },
     "execution_count": 5,
     "metadata": {},
     "output_type": "execute_result"
    }
   ],
   "source": [
    "X_train.dtypes"
   ]
  },
  {
   "cell_type": "markdown",
   "metadata": {},
   "source": [
    "All features are numerical(floats) and only the column *'Image'* is type object.\n",
    "\n",
    "We need to convert the cells of the this column from strings to integers and reshape each cell to image size: $96$ x $96$.\n",
    "\n",
    "Finally we create a new column with numerical numbers: *'Num_Image'*"
   ]
  },
  {
   "cell_type": "code",
   "execution_count": 6,
   "metadata": {},
   "outputs": [],
   "source": [
    "# 1. split the string to separate substrings\n",
    "split_image = [(cell.split(' ')) for cell in X_train.Image]\n",
    "\n",
    "# 2. convert the elements of the cells into type(int) and reshape each cell  \n",
    "for i in range(len(split_image)):\n",
    "    for j in range(len(split_image[i])):\n",
    "       split_image[i][j] = int(split_image[i][j])\n",
    "    \n",
    "    split_image[i] = np.array(split_image[i]).reshape(96, 96)\n",
    "\n",
    "# 3. save as new column\n",
    "X_train['Num_Image'] = split_image   "
   ]
  },
  {
   "cell_type": "code",
   "execution_count": 7,
   "metadata": {},
   "outputs": [],
   "source": [
    "assert type(split_image[0]) == np.ndarray\n",
    "assert split_image[0].shape == (96, 96)\n",
    "assert len(split_image) == X_train.Image.size"
   ]
  },
  {
   "cell_type": "markdown",
   "metadata": {},
   "source": [
    "Assertion checks are passed.\n",
    "\n",
    "But to check if everithing is okey, let's display some random images from the new column 'Num_Image'."
   ]
  },
  {
   "cell_type": "code",
   "execution_count": 8,
   "metadata": {},
   "outputs": [],
   "source": [
    "# number of images to display:\n",
    "num_images = 3\n",
    "\n",
    "def print_image(df_column: pd.Series):\n",
    "\n",
    "    '''It displays the images of random cells\n",
    "    \n",
    "    Parameters:\n",
    "    df_column:      feature of pd.DataFrame or pd.Series\n",
    "    '''\n",
    "\n",
    "    # Generating a list with indicies of random cells:\n",
    "    rand_inx = np.random.randint(0, len(X_train), num_images, dtype='uint16')\n",
    "    \n",
    "    for i in range(num_images):\n",
    "\n",
    "        plt.subplot(1, num_images, i+1)\n",
    "        plt.imshow(X_train.at[rand_inx[i], df_column.name], cmap= 'inferno')"
   ]
  },
  {
   "cell_type": "code",
   "execution_count": 9,
   "metadata": {},
   "outputs": [
    {
     "data": {
      "image/png": "[encoded data removed]",
      "text/plain": [
       "<Figure size 432x288 with 3 Axes>"
      ]
     },
     "metadata": {
      "needs_background": "light"
     },
     "output_type": "display_data"
    }
   ],
   "source": [
    "print_image( X_train.Num_Image)\n",
    "# X_train.Num_Image.name"
   ]
  },
  {
   "cell_type": "markdown",
   "metadata": {},
   "source": [
    "**Test set**:"
   ]
  },
  {
   "cell_type": "code",
   "execution_count": 10,
   "metadata": {},
   "outputs": [
    {
     "data": {
      "text/plain": [
       "(1783, 2)"
      ]
     },
     "execution_count": 10,
     "metadata": {},
     "output_type": "execute_result"
    }
   ],
   "source": [
    "X_test = pd.read_csv('test.csv')\n",
    "X_test.shape # (1783, 2)"
   ]
  },
  {
   "cell_type": "code",
   "execution_count": 11,
   "metadata": {},
   "outputs": [
    {
     "data": {
      "text/html": [
       "<div>\n",
       "<style scoped>\n",
       "    .dataframe tbody tr th:only-of-type {\n",
       "        vertical-align: middle;\n",
       "    }\n",
       "\n",
       "    .dataframe tbody tr th {\n",
       "        vertical-align: top;\n",
       "    }\n",
       "\n",
       "    .dataframe thead th {\n",
       "        text-align: right;\n",
       "    }\n",
       "</style>\n",
       "<table border=\"1\" class=\"dataframe\">\n",
       "  <thead>\n",
       "    <tr style=\"text-align: right;\">\n",
       "      <th></th>\n",
       "      <th>ImageId</th>\n",
       "      <th>Image</th>\n",
       "    </tr>\n",
       "  </thead>\n",
       "  <tbody>\n",
       "    <tr>\n",
       "      <th>0</th>\n",
       "      <td>1</td>\n",
       "      <td>182 183 182 182 180 180 176 169 156 137 124 10...</td>\n",
       "    </tr>\n",
       "    <tr>\n",
       "      <th>1</th>\n",
       "      <td>2</td>\n",
       "      <td>76 87 81 72 65 59 64 76 69 42 31 38 49 58 58 4...</td>\n",
       "    </tr>\n",
       "    <tr>\n",
       "      <th>2</th>\n",
       "      <td>3</td>\n",
       "      <td>177 176 174 170 169 169 168 166 166 166 161 14...</td>\n",
       "    </tr>\n",
       "  </tbody>\n",
       "</table>\n",
       "</div>"
      ],
      "text/plain": [
       "   ImageId                                              Image\n",
       "0        1  182 183 182 182 180 180 176 169 156 137 124 10...\n",
       "1        2  76 87 81 72 65 59 64 76 69 42 31 38 49 58 58 4...\n",
       "2        3  177 176 174 170 169 169 168 166 166 166 161 14..."
      ]
     },
     "execution_count": 11,
     "metadata": {},
     "output_type": "execute_result"
    }
   ],
   "source": [
    "X_test.head(3)"
   ]
  },
  {
   "cell_type": "code",
   "execution_count": 12,
   "metadata": {},
   "outputs": [
    {
     "data": {
      "text/plain": [
       "ImageId     int64\n",
       "Image      object\n",
       "dtype: object"
      ]
     },
     "execution_count": 12,
     "metadata": {},
     "output_type": "execute_result"
    }
   ],
   "source": [
    "X_test.dtypes"
   ]
  },
  {
   "cell_type": "markdown",
   "metadata": {},
   "source": [
    "Again we need to convert the 'Image' column into 'int' and reshape into $96$ x $96$, since column 'ImageId' is numerical. "
   ]
  },
  {
   "cell_type": "code",
   "execution_count": 13,
   "metadata": {},
   "outputs": [],
   "source": [
    "X_test['Num_Image'] = [np.array(x.split(' ')).reshape(96, 96).astype('uint16') for x in X_test.Image]"
   ]
  },
  {
   "cell_type": "code",
   "execution_count": 14,
   "metadata": {},
   "outputs": [
    {
     "data": {
      "text/plain": [
       "ImageId       int64\n",
       "Image        object\n",
       "Num_Image    object\n",
       "dtype: object"
      ]
     },
     "execution_count": 14,
     "metadata": {},
     "output_type": "execute_result"
    }
   ],
   "source": [
    "X_test.dtypes"
   ]
  },
  {
   "cell_type": "code",
   "execution_count": 15,
   "metadata": {},
   "outputs": [],
   "source": [
    "assert type(X_test['Num_Image']) == pd.Series\n",
    "assert type(X_test['Num_Image'][0]) == np.ndarray\n",
    "assert X_test['Num_Image'][0].shape == (96, 96)\n",
    "assert X_test['Num_Image'].shape == X_test.Image.shape"
   ]
  },
  {
   "cell_type": "code",
   "execution_count": 16,
   "metadata": {},
   "outputs": [
    {
     "data": {
      "image/png": "[encoded data removed]",
      "text/plain": [
       "<Figure size 432x288 with 3 Axes>"
      ]
     },
     "metadata": {
      "needs_background": "light"
     },
     "output_type": "display_data"
    }
   ],
   "source": [
    "# check out with 3 randomm images if the new column 'Num_Image' is okey:\n",
    "num_images = 3\n",
    "print_image( X_test['Num_Image'])"
   ]
  },
  {
   "cell_type": "code",
   "execution_count": 17,
   "metadata": {},
   "outputs": [
    {
     "data": {
      "text/html": [
       "<div>\n",
       "<style scoped>\n",
       "    .dataframe tbody tr th:only-of-type {\n",
       "        vertical-align: middle;\n",
       "    }\n",
       "\n",
       "    .dataframe tbody tr th {\n",
       "        vertical-align: top;\n",
       "    }\n",
       "\n",
       "    .dataframe thead th {\n",
       "        text-align: right;\n",
       "    }\n",
       "</style>\n",
       "<table border=\"1\" class=\"dataframe\">\n",
       "  <thead>\n",
       "    <tr style=\"text-align: right;\">\n",
       "      <th></th>\n",
       "      <th>RowId</th>\n",
       "      <th>ImageId</th>\n",
       "      <th>FeatureName</th>\n",
       "      <th>Location</th>\n",
       "    </tr>\n",
       "  </thead>\n",
       "  <tbody>\n",
       "    <tr>\n",
       "      <th>0</th>\n",
       "      <td>1</td>\n",
       "      <td>1</td>\n",
       "      <td>left_eye_center_x</td>\n",
       "      <td>NaN</td>\n",
       "    </tr>\n",
       "    <tr>\n",
       "      <th>1</th>\n",
       "      <td>2</td>\n",
       "      <td>1</td>\n",
       "      <td>left_eye_center_y</td>\n",
       "      <td>NaN</td>\n",
       "    </tr>\n",
       "    <tr>\n",
       "      <th>2</th>\n",
       "      <td>3</td>\n",
       "      <td>1</td>\n",
       "      <td>right_eye_center_x</td>\n",
       "      <td>NaN</td>\n",
       "    </tr>\n",
       "    <tr>\n",
       "      <th>3</th>\n",
       "      <td>4</td>\n",
       "      <td>1</td>\n",
       "      <td>right_eye_center_y</td>\n",
       "      <td>NaN</td>\n",
       "    </tr>\n",
       "    <tr>\n",
       "      <th>4</th>\n",
       "      <td>5</td>\n",
       "      <td>1</td>\n",
       "      <td>left_eye_inner_corner_x</td>\n",
       "      <td>NaN</td>\n",
       "    </tr>\n",
       "    <tr>\n",
       "      <th>...</th>\n",
       "      <td>...</td>\n",
       "      <td>...</td>\n",
       "      <td>...</td>\n",
       "      <td>...</td>\n",
       "    </tr>\n",
       "    <tr>\n",
       "      <th>27119</th>\n",
       "      <td>27120</td>\n",
       "      <td>1783</td>\n",
       "      <td>right_eye_center_y</td>\n",
       "      <td>NaN</td>\n",
       "    </tr>\n",
       "    <tr>\n",
       "      <th>27120</th>\n",
       "      <td>27121</td>\n",
       "      <td>1783</td>\n",
       "      <td>nose_tip_x</td>\n",
       "      <td>NaN</td>\n",
       "    </tr>\n",
       "    <tr>\n",
       "      <th>27121</th>\n",
       "      <td>27122</td>\n",
       "      <td>1783</td>\n",
       "      <td>nose_tip_y</td>\n",
       "      <td>NaN</td>\n",
       "    </tr>\n",
       "    <tr>\n",
       "      <th>27122</th>\n",
       "      <td>27123</td>\n",
       "      <td>1783</td>\n",
       "      <td>mouth_center_bottom_lip_x</td>\n",
       "      <td>NaN</td>\n",
       "    </tr>\n",
       "    <tr>\n",
       "      <th>27123</th>\n",
       "      <td>27124</td>\n",
       "      <td>1783</td>\n",
       "      <td>mouth_center_bottom_lip_y</td>\n",
       "      <td>NaN</td>\n",
       "    </tr>\n",
       "  </tbody>\n",
       "</table>\n",
       "<p>27124 rows × 4 columns</p>\n",
       "</div>"
      ],
      "text/plain": [
       "       RowId  ImageId                FeatureName  Location\n",
       "0          1        1          left_eye_center_x       NaN\n",
       "1          2        1          left_eye_center_y       NaN\n",
       "2          3        1         right_eye_center_x       NaN\n",
       "3          4        1         right_eye_center_y       NaN\n",
       "4          5        1    left_eye_inner_corner_x       NaN\n",
       "...      ...      ...                        ...       ...\n",
       "27119  27120     1783         right_eye_center_y       NaN\n",
       "27120  27121     1783                 nose_tip_x       NaN\n",
       "27121  27122     1783                 nose_tip_y       NaN\n",
       "27122  27123     1783  mouth_center_bottom_lip_x       NaN\n",
       "27123  27124     1783  mouth_center_bottom_lip_y       NaN\n",
       "\n",
       "[27124 rows x 4 columns]"
      ]
     },
     "execution_count": 17,
     "metadata": {},
     "output_type": "execute_result"
    }
   ],
   "source": [
    "id_lookup_table = pd.read_csv('IdLookupTable.csv')\n",
    "id_lookup_table"
   ]
  },
  {
   "cell_type": "code",
   "execution_count": 18,
   "metadata": {},
   "outputs": [
    {
     "data": {
      "text/plain": [
       "RowId            int64\n",
       "ImageId          int64\n",
       "FeatureName     object\n",
       "Location       float64\n",
       "dtype: object"
      ]
     },
     "execution_count": 18,
     "metadata": {},
     "output_type": "execute_result"
    }
   ],
   "source": [
    "id_lookup_table.dtypes"
   ]
  },
  {
   "cell_type": "markdown",
   "metadata": {},
   "source": [
    "Now as we could see that a number of CSV files are read in above cells. Let's get better understanding what each file contains.\n",
    "\n",
    "<span style=\"color:darkblue\">__*Training File:*__</span>\n",
    "\n",
    "**training.csv:** This file contains training data. Last column of this file named Image contains image data. Rest \n",
    "of the columns ends <kbd>_x</kbd> or <kbd>_y</kbd> coordinate values values for different keypoints. E.g.: First \n",
    "two columns *left_eye_center_x*, *left_eye_center_y* denote $x$ and $y$ coordinates of center point of *left eye*.\n",
    "\n",
    "Also, column Image contains image was a string of numbers, separated by spaces. Then we have \n",
    "converted this image to 2D numpy array so that we could process it as actual image.\n",
    "\n",
    "<span style=\"color:darkblue\">__*Testing Files:*__</span>\n",
    "\n",
    "Rest of the files will be used to make submissions. Lets understand each one in detail:\n",
    "\n",
    "**test.csv:** This file contains only two columns ImageId, Image. Again, here the images were represented as string \n",
    "of numbers and then converted to 2D numpy arrays. We need to make predictions of keypoints for each image \n",
    "present in this file.\n",
    "\n",
    "**IdLookupTable.csv:** For each image in test we do not need to predict all keypoints. What keypoints are required \n",
    "for each image are mentioned in this file. This file has got 4 columns: *RowId*, *ImageId*, *FeatureName*, \n",
    "*Location*. So we need to extract Location for specific FeatureName for each ImageId.\n",
    "\n",
    "**SampleSubmission.csv:** This is a final submission file into a kaggle-competition. We'll not use it for our \n",
    "project work.\n",
    "\n"
   ]
  },
  {
   "cell_type": "markdown",
   "metadata": {},
   "source": [
    "### 1.3. Handling missing values in the data\n",
    "\n",
    "First we analyze how much are the missing values by features. \n",
    "\n",
    "We see that there is very big gap by distribution of missing values. The following have less then 15:\n",
    "\n",
    " - mouth_center_bottom_lip\n",
    " - nose_tip\n",
    " - left_eye_center \n",
    " - right_eye_center\n",
    "\n",
    "The rest features missed almost 5000.  "
   ]
  },
  {
   "cell_type": "code",
   "execution_count": 19,
   "metadata": {},
   "outputs": [
    {
     "data": {
      "text/plain": [
       "left_eye_center_x              10\n",
       "left_eye_center_y              10\n",
       "right_eye_center_x             13\n",
       "right_eye_center_y             13\n",
       "left_eye_inner_corner_x      4778\n",
       "left_eye_inner_corner_y      4778\n",
       "left_eye_outer_corner_x      4782\n",
       "left_eye_outer_corner_y      4782\n",
       "right_eye_inner_corner_x     4781\n",
       "right_eye_inner_corner_y     4781\n",
       "right_eye_outer_corner_x     4781\n",
       "right_eye_outer_corner_y     4781\n",
       "left_eyebrow_inner_end_x     4779\n",
       "left_eyebrow_inner_end_y     4779\n",
       "left_eyebrow_outer_end_x     4824\n",
       "left_eyebrow_outer_end_y     4824\n",
       "right_eyebrow_inner_end_x    4779\n",
       "right_eyebrow_inner_end_y    4779\n",
       "right_eyebrow_outer_end_x    4813\n",
       "right_eyebrow_outer_end_y    4813\n",
       "nose_tip_x                      0\n",
       "nose_tip_y                      0\n",
       "mouth_left_corner_x          4780\n",
       "mouth_left_corner_y          4780\n",
       "mouth_right_corner_x         4779\n",
       "mouth_right_corner_y         4779\n",
       "mouth_center_top_lip_x       4774\n",
       "mouth_center_top_lip_y       4774\n",
       "mouth_center_bottom_lip_x      33\n",
       "mouth_center_bottom_lip_y      33\n",
       "Image                           0\n",
       "Num_Image                       0\n",
       "dtype: int64"
      ]
     },
     "execution_count": 19,
     "metadata": {},
     "output_type": "execute_result"
    }
   ],
   "source": [
    "X_train.isna().sum()"
   ]
  },
  {
   "cell_type": "code",
   "execution_count": 20,
   "metadata": {},
   "outputs": [
    {
     "data": {
      "image/png": "[encoded data removed]",
      "text/plain": [
       "<Figure size 720x1296 with 1 Axes>"
      ]
     },
     "metadata": {
      "needs_background": "light"
     },
     "output_type": "display_data"
    }
   ],
   "source": [
    "plt.figure(figsize=(10, 18))\n",
    "\n",
    "plt.barh(X_train.isna().sum().index, (X_train.isna().sum().values))\n",
    "\n",
    "plt.xlabel('Numbers')\n",
    "plt.title( 'Missing values by featurs')\n",
    "\n",
    "plt.show()"
   ]
  },
  {
   "cell_type": "markdown",
   "metadata": {},
   "source": [
    "Filling the missing with last observed value and compare how works '.fillina(method=\"ffill\")' with a row."
   ]
  },
  {
   "cell_type": "code",
   "execution_count": 21,
   "metadata": {},
   "outputs": [
    {
     "data": {
      "text/html": [
       "<div>\n",
       "<style scoped>\n",
       "    .dataframe tbody tr th:only-of-type {\n",
       "        vertical-align: middle;\n",
       "    }\n",
       "\n",
       "    .dataframe tbody tr th {\n",
       "        vertical-align: top;\n",
       "    }\n",
       "\n",
       "    .dataframe thead th {\n",
       "        text-align: right;\n",
       "    }\n",
       "</style>\n",
       "<table border=\"1\" class=\"dataframe\">\n",
       "  <thead>\n",
       "    <tr style=\"text-align: right;\">\n",
       "      <th></th>\n",
       "      <th>left_eye_center_x</th>\n",
       "      <th>left_eye_center_y</th>\n",
       "      <th>right_eye_center_x</th>\n",
       "      <th>right_eye_center_y</th>\n",
       "      <th>left_eye_inner_corner_x</th>\n",
       "      <th>left_eye_inner_corner_y</th>\n",
       "      <th>left_eye_outer_corner_x</th>\n",
       "      <th>left_eye_outer_corner_y</th>\n",
       "      <th>right_eye_inner_corner_x</th>\n",
       "      <th>right_eye_inner_corner_y</th>\n",
       "      <th>...</th>\n",
       "      <th>right_eyebrow_outer_end_x</th>\n",
       "      <th>right_eyebrow_outer_end_y</th>\n",
       "      <th>mouth_left_corner_x</th>\n",
       "      <th>mouth_left_corner_y</th>\n",
       "      <th>mouth_right_corner_x</th>\n",
       "      <th>mouth_right_corner_y</th>\n",
       "      <th>mouth_center_top_lip_x</th>\n",
       "      <th>mouth_center_top_lip_y</th>\n",
       "      <th>mouth_center_bottom_lip_x</th>\n",
       "      <th>mouth_center_bottom_lip_y</th>\n",
       "    </tr>\n",
       "  </thead>\n",
       "  <tbody>\n",
       "    <tr>\n",
       "      <th>1686</th>\n",
       "      <td>65.122098</td>\n",
       "      <td>36.396540</td>\n",
       "      <td>31.040735</td>\n",
       "      <td>37.985295</td>\n",
       "      <td>57.537073</td>\n",
       "      <td>37.395918</td>\n",
       "      <td>71.842020</td>\n",
       "      <td>38.418872</td>\n",
       "      <td>38.472010</td>\n",
       "      <td>38.907798</td>\n",
       "      <td>...</td>\n",
       "      <td>14.570618</td>\n",
       "      <td>31.274280</td>\n",
       "      <td>65.167833</td>\n",
       "      <td>75.855061</td>\n",
       "      <td>37.012677</td>\n",
       "      <td>77.215894</td>\n",
       "      <td>53.506906</td>\n",
       "      <td>72.030653</td>\n",
       "      <td>52.357237</td>\n",
       "      <td>76.817029</td>\n",
       "    </tr>\n",
       "    <tr>\n",
       "      <th>1687</th>\n",
       "      <td>NaN</td>\n",
       "      <td>NaN</td>\n",
       "      <td>NaN</td>\n",
       "      <td>NaN</td>\n",
       "      <td>57.931068</td>\n",
       "      <td>40.808627</td>\n",
       "      <td>73.232712</td>\n",
       "      <td>44.910035</td>\n",
       "      <td>NaN</td>\n",
       "      <td>NaN</td>\n",
       "      <td>...</td>\n",
       "      <td>19.365442</td>\n",
       "      <td>23.906166</td>\n",
       "      <td>54.595918</td>\n",
       "      <td>74.511943</td>\n",
       "      <td>24.118659</td>\n",
       "      <td>68.652754</td>\n",
       "      <td>39.136317</td>\n",
       "      <td>71.487238</td>\n",
       "      <td>37.405514</td>\n",
       "      <td>75.520178</td>\n",
       "    </tr>\n",
       "    <tr>\n",
       "      <th>1688</th>\n",
       "      <td>64.732263</td>\n",
       "      <td>38.099388</td>\n",
       "      <td>29.076790</td>\n",
       "      <td>38.230185</td>\n",
       "      <td>57.852300</td>\n",
       "      <td>39.485844</td>\n",
       "      <td>74.175863</td>\n",
       "      <td>38.622579</td>\n",
       "      <td>40.299239</td>\n",
       "      <td>40.113673</td>\n",
       "      <td>...</td>\n",
       "      <td>13.508442</td>\n",
       "      <td>32.109091</td>\n",
       "      <td>63.814675</td>\n",
       "      <td>74.988312</td>\n",
       "      <td>32.466623</td>\n",
       "      <td>75.666234</td>\n",
       "      <td>51.074415</td>\n",
       "      <td>77.746753</td>\n",
       "      <td>51.167922</td>\n",
       "      <td>78.611688</td>\n",
       "    </tr>\n",
       "  </tbody>\n",
       "</table>\n",
       "<p>3 rows × 28 columns</p>\n",
       "</div>"
      ],
      "text/plain": [
       "      left_eye_center_x  left_eye_center_y  right_eye_center_x  \\\n",
       "1686          65.122098          36.396540           31.040735   \n",
       "1687                NaN                NaN                 NaN   \n",
       "1688          64.732263          38.099388           29.076790   \n",
       "\n",
       "      right_eye_center_y  left_eye_inner_corner_x  left_eye_inner_corner_y  \\\n",
       "1686           37.985295                57.537073                37.395918   \n",
       "1687                 NaN                57.931068                40.808627   \n",
       "1688           38.230185                57.852300                39.485844   \n",
       "\n",
       "      left_eye_outer_corner_x  left_eye_outer_corner_y  \\\n",
       "1686                71.842020                38.418872   \n",
       "1687                73.232712                44.910035   \n",
       "1688                74.175863                38.622579   \n",
       "\n",
       "      right_eye_inner_corner_x  right_eye_inner_corner_y  ...  \\\n",
       "1686                 38.472010                 38.907798  ...   \n",
       "1687                       NaN                       NaN  ...   \n",
       "1688                 40.299239                 40.113673  ...   \n",
       "\n",
       "      right_eyebrow_outer_end_x  right_eyebrow_outer_end_y  \\\n",
       "1686                  14.570618                  31.274280   \n",
       "1687                  19.365442                  23.906166   \n",
       "1688                  13.508442                  32.109091   \n",
       "\n",
       "      mouth_left_corner_x  mouth_left_corner_y  mouth_right_corner_x  \\\n",
       "1686            65.167833            75.855061             37.012677   \n",
       "1687            54.595918            74.511943             24.118659   \n",
       "1688            63.814675            74.988312             32.466623   \n",
       "\n",
       "      mouth_right_corner_y  mouth_center_top_lip_x  mouth_center_top_lip_y  \\\n",
       "1686             77.215894               53.506906               72.030653   \n",
       "1687             68.652754               39.136317               71.487238   \n",
       "1688             75.666234               51.074415               77.746753   \n",
       "\n",
       "      mouth_center_bottom_lip_x  mouth_center_bottom_lip_y  \n",
       "1686                  52.357237                  76.817029  \n",
       "1687                  37.405514                  75.520178  \n",
       "1688                  51.167922                  78.611688  \n",
       "\n",
       "[3 rows x 28 columns]"
      ]
     },
     "execution_count": 21,
     "metadata": {},
     "output_type": "execute_result"
    }
   ],
   "source": [
    "# before\n",
    "columns_with_nans = [x for x in X_train.columns if X_train.isna().sum().loc[x] != 0]\n",
    "X_train.loc[1686: 1688, columns_with_nans]"
   ]
  },
  {
   "cell_type": "code",
   "execution_count": 22,
   "metadata": {},
   "outputs": [
    {
     "data": {
      "text/html": [
       "<div>\n",
       "<style scoped>\n",
       "    .dataframe tbody tr th:only-of-type {\n",
       "        vertical-align: middle;\n",
       "    }\n",
       "\n",
       "    .dataframe tbody tr th {\n",
       "        vertical-align: top;\n",
       "    }\n",
       "\n",
       "    .dataframe thead th {\n",
       "        text-align: right;\n",
       "    }\n",
       "</style>\n",
       "<table border=\"1\" class=\"dataframe\">\n",
       "  <thead>\n",
       "    <tr style=\"text-align: right;\">\n",
       "      <th></th>\n",
       "      <th>left_eye_center_x</th>\n",
       "      <th>left_eye_center_y</th>\n",
       "      <th>right_eye_center_x</th>\n",
       "      <th>right_eye_center_y</th>\n",
       "      <th>left_eye_inner_corner_x</th>\n",
       "      <th>left_eye_inner_corner_y</th>\n",
       "      <th>left_eye_outer_corner_x</th>\n",
       "      <th>left_eye_outer_corner_y</th>\n",
       "      <th>right_eye_inner_corner_x</th>\n",
       "      <th>right_eye_inner_corner_y</th>\n",
       "      <th>...</th>\n",
       "      <th>right_eyebrow_outer_end_x</th>\n",
       "      <th>right_eyebrow_outer_end_y</th>\n",
       "      <th>mouth_left_corner_x</th>\n",
       "      <th>mouth_left_corner_y</th>\n",
       "      <th>mouth_right_corner_x</th>\n",
       "      <th>mouth_right_corner_y</th>\n",
       "      <th>mouth_center_top_lip_x</th>\n",
       "      <th>mouth_center_top_lip_y</th>\n",
       "      <th>mouth_center_bottom_lip_x</th>\n",
       "      <th>mouth_center_bottom_lip_y</th>\n",
       "    </tr>\n",
       "  </thead>\n",
       "  <tbody>\n",
       "    <tr>\n",
       "      <th>1686</th>\n",
       "      <td>65.122098</td>\n",
       "      <td>36.396540</td>\n",
       "      <td>31.040735</td>\n",
       "      <td>37.985295</td>\n",
       "      <td>57.537073</td>\n",
       "      <td>37.395918</td>\n",
       "      <td>71.842020</td>\n",
       "      <td>38.418872</td>\n",
       "      <td>38.472010</td>\n",
       "      <td>38.907798</td>\n",
       "      <td>...</td>\n",
       "      <td>14.570618</td>\n",
       "      <td>31.274280</td>\n",
       "      <td>65.167833</td>\n",
       "      <td>75.855061</td>\n",
       "      <td>37.012677</td>\n",
       "      <td>77.215894</td>\n",
       "      <td>53.506906</td>\n",
       "      <td>72.030653</td>\n",
       "      <td>52.357237</td>\n",
       "      <td>76.817029</td>\n",
       "    </tr>\n",
       "    <tr>\n",
       "      <th>1687</th>\n",
       "      <td>65.122098</td>\n",
       "      <td>36.396540</td>\n",
       "      <td>31.040735</td>\n",
       "      <td>37.985295</td>\n",
       "      <td>57.931068</td>\n",
       "      <td>40.808627</td>\n",
       "      <td>73.232712</td>\n",
       "      <td>44.910035</td>\n",
       "      <td>38.472010</td>\n",
       "      <td>38.907798</td>\n",
       "      <td>...</td>\n",
       "      <td>19.365442</td>\n",
       "      <td>23.906166</td>\n",
       "      <td>54.595918</td>\n",
       "      <td>74.511943</td>\n",
       "      <td>24.118659</td>\n",
       "      <td>68.652754</td>\n",
       "      <td>39.136317</td>\n",
       "      <td>71.487238</td>\n",
       "      <td>37.405514</td>\n",
       "      <td>75.520178</td>\n",
       "    </tr>\n",
       "    <tr>\n",
       "      <th>1688</th>\n",
       "      <td>64.732263</td>\n",
       "      <td>38.099388</td>\n",
       "      <td>29.076790</td>\n",
       "      <td>38.230185</td>\n",
       "      <td>57.852300</td>\n",
       "      <td>39.485844</td>\n",
       "      <td>74.175863</td>\n",
       "      <td>38.622579</td>\n",
       "      <td>40.299239</td>\n",
       "      <td>40.113673</td>\n",
       "      <td>...</td>\n",
       "      <td>13.508442</td>\n",
       "      <td>32.109091</td>\n",
       "      <td>63.814675</td>\n",
       "      <td>74.988312</td>\n",
       "      <td>32.466623</td>\n",
       "      <td>75.666234</td>\n",
       "      <td>51.074415</td>\n",
       "      <td>77.746753</td>\n",
       "      <td>51.167922</td>\n",
       "      <td>78.611688</td>\n",
       "    </tr>\n",
       "  </tbody>\n",
       "</table>\n",
       "<p>3 rows × 28 columns</p>\n",
       "</div>"
      ],
      "text/plain": [
       "      left_eye_center_x  left_eye_center_y  right_eye_center_x  \\\n",
       "1686          65.122098          36.396540           31.040735   \n",
       "1687          65.122098          36.396540           31.040735   \n",
       "1688          64.732263          38.099388           29.076790   \n",
       "\n",
       "      right_eye_center_y  left_eye_inner_corner_x  left_eye_inner_corner_y  \\\n",
       "1686           37.985295                57.537073                37.395918   \n",
       "1687           37.985295                57.931068                40.808627   \n",
       "1688           38.230185                57.852300                39.485844   \n",
       "\n",
       "      left_eye_outer_corner_x  left_eye_outer_corner_y  \\\n",
       "1686                71.842020                38.418872   \n",
       "1687                73.232712                44.910035   \n",
       "1688                74.175863                38.622579   \n",
       "\n",
       "      right_eye_inner_corner_x  right_eye_inner_corner_y  ...  \\\n",
       "1686                 38.472010                 38.907798  ...   \n",
       "1687                 38.472010                 38.907798  ...   \n",
       "1688                 40.299239                 40.113673  ...   \n",
       "\n",
       "      right_eyebrow_outer_end_x  right_eyebrow_outer_end_y  \\\n",
       "1686                  14.570618                  31.274280   \n",
       "1687                  19.365442                  23.906166   \n",
       "1688                  13.508442                  32.109091   \n",
       "\n",
       "      mouth_left_corner_x  mouth_left_corner_y  mouth_right_corner_x  \\\n",
       "1686            65.167833            75.855061             37.012677   \n",
       "1687            54.595918            74.511943             24.118659   \n",
       "1688            63.814675            74.988312             32.466623   \n",
       "\n",
       "      mouth_right_corner_y  mouth_center_top_lip_x  mouth_center_top_lip_y  \\\n",
       "1686             77.215894               53.506906               72.030653   \n",
       "1687             68.652754               39.136317               71.487238   \n",
       "1688             75.666234               51.074415               77.746753   \n",
       "\n",
       "      mouth_center_bottom_lip_x  mouth_center_bottom_lip_y  \n",
       "1686                  52.357237                  76.817029  \n",
       "1687                  37.405514                  75.520178  \n",
       "1688                  51.167922                  78.611688  \n",
       "\n",
       "[3 rows x 28 columns]"
      ]
     },
     "execution_count": 22,
     "metadata": {},
     "output_type": "execute_result"
    }
   ],
   "source": [
    "columns_with_nans = [x for x in X_train.columns if X_train.isna().sum().loc[x] != 0]\n",
    "X_train_filled = X_train.fillna(method='ffill')\n",
    "\n",
    "# after \n",
    "X_train_filled.loc[1686: 1688, columns_with_nans]"
   ]
  },
  {
   "cell_type": "markdown",
   "metadata": {},
   "source": [
    "This method is not bad but not very good because the filled coordinats are not correct adjusted and the keypoints will be not at the correct place. \n",
    "\n",
    "**A more precise approach:**\n",
    "\n",
    "We try to do some better approximation with avarage distances to *real existing keypoints* in the dataset.\n",
    "\n",
    "As *real existing keypoints* we use:\n",
    "\n",
    " - the coordinates of the features with minimum missing values. \n",
    "\n",
    "Then we'll compute the **average distance** between *a real existing keypoint* and the targeted missing keypoint.\n",
    "\n",
    "*Note:* there are even better solution for this specific case we don't apply in the current project. The idea is to take more distances between existing keypoints.\n",
    "\n",
    "Here we create *2 distinguished areas* in order of the *real existing keypoints* with most given coordinates:\n",
    "\n",
    "- month area\n",
    "- eye area\n",
    "\n",
    "First we drop all missing values in dataset. \n",
    "\n",
    "Now we compute the following **average distance** for the missing keypoints:"
   ]
  },
  {
   "cell_type": "code",
   "execution_count": 23,
   "metadata": {},
   "outputs": [],
   "source": [
    "# Dropping all missing values\n",
    "X_train_dropna = X_train.dropna() # 2140 rows × 32 columns\n",
    "\n",
    "# Avarage distance MOUTH AREA\n",
    "\n",
    "def avrg_dropped_distance_from_mouth_to (feature_with_nans: str):\n",
    "    '''Computes the avarage distance in the \"mounth area\" using 'dropped' dataset\n",
    "    \n",
    "    Parameters:\n",
    "    feature_with_nans(str):  the names of the feature with many NaN\n",
    "                    name can be one of {'mouth_left_corner', 'mouth_right_corner' or 'mouth_center_top_lip'} \n",
    "    Return:\n",
    "    av_distance(float):   avarage distance rounded till 5 signs             \n",
    "    '''\n",
    "    avrg_m_centr_bottom_lip_x = X_train_dropna['mouth_center_bottom_lip_x'].mean()\n",
    "    # 48.1496539871852\n",
    "    avrg_m_centr_bottom_lip_y = X_train_dropna['mouth_center_bottom_lip_y'].mean()\n",
    "    # 82.63041245065179\n",
    "    \n",
    "    av_missing_x = X_train_dropna[feature_with_nans + '_x'].mean()\n",
    "    av_missing_y = X_train_dropna[feature_with_nans + '_y'].mean()\n",
    "\n",
    "    # Difference between coordinates of 'mouth_center_bottom_lip' and 'feature_with_nans'\n",
    "        \n",
    "    # Extrapolating new avarage coordinates\n",
    "\n",
    "\n",
    "    av_distance=distance_matrix([[avrg_m_centr_bottom_lip_x, avrg_m_centr_bottom_lip_y]],[[av_missing_x, av_missing_y]])[0][0]\n",
    "    \n",
    "    return round(av_distance, 5)\n"
   ]
  },
  {
   "cell_type": "code",
   "execution_count": 24,
   "metadata": {},
   "outputs": [
    {
     "data": {
      "text/plain": [
       "(9.94952, 0.07, 9.95)"
      ]
     },
     "execution_count": 24,
     "metadata": {},
     "output_type": "execute_result"
    }
   ],
   "source": [
    "avrg_dropped_distance_from_mouth_to('mouth_left_corner')\n",
    "# 16.69191\n",
    "\n",
    "avrg_dropped_distance_from_mouth_to('mouth_right_corner')\n",
    "# 16.51376\n",
    "\n",
    "avrg_dropped_distance_from_mouth_to('mouth_center_top_lip')\n",
    "#  9.94952\n",
    "\n",
    "(9.94952, 0.07, 9.95)"
   ]
  },
  {
   "cell_type": "markdown",
   "metadata": {},
   "source": [
    "In this study we'll use the mean value of each feature to replace the missing values.\n",
    "\n",
    "For the porpouse we'll prepare a dictionary."
   ]
  },
  {
   "cell_type": "code",
   "execution_count": 25,
   "metadata": {},
   "outputs": [],
   "source": [
    "columns_with_nans = [x for x in X_train.columns if X_train.isna().sum().loc[x] != 0]\n",
    "\n",
    "# Creating a dict with mean values by columns\n",
    "means_by_features = dict(X_train.drop(columns=['Image', 'Num_Image']).mean(axis=0, skipna= True))\n",
    "\n",
    "# Filling NaN with mean value of each column\n",
    "\n",
    "X_train_fm = X_train.fillna(value = means_by_features)\n",
    " \n",
    "# X_train_fm.shape -> 7049 rows × 32 columns"
   ]
  },
  {
   "cell_type": "code",
   "execution_count": 26,
   "metadata": {},
   "outputs": [],
   "source": [
    "# Check out if there are still missing values in 'X_train_fm'\n",
    "\n",
    "assert [value for value in X_train_fm.isna().any().values if value == True] == []"
   ]
  },
  {
   "cell_type": "markdown",
   "metadata": {},
   "source": [
    "## 2. Modeling \n",
    "### 2.1. Preparing data for modeling\n",
    "\n",
    "Lets show first some random images with keypoints."
   ]
  },
  {
   "cell_type": "code",
   "execution_count": 27,
   "metadata": {},
   "outputs": [],
   "source": [
    "# First divide in X(testing data) and in y(predicting targets)\n",
    "\n",
    "X = X_train_fm.drop(columns=['Image','Num_Image'])\n",
    "y = X_train_fm['Num_Image']"
   ]
  },
  {
   "cell_type": "code",
   "execution_count": 28,
   "metadata": {},
   "outputs": [
    {
     "data": {
      "text/plain": [
       "((7049, 30), (7049,))"
      ]
     },
     "execution_count": 28,
     "metadata": {},
     "output_type": "execute_result"
    }
   ],
   "source": [
    "X.shape, y.shape"
   ]
  },
  {
   "cell_type": "code",
   "execution_count": 29,
   "metadata": {},
   "outputs": [],
   "source": [
    "def print_image_with_keypoints(df_column: pd.Series, numb: int):\n",
    "\n",
    "    '''It displays number of images of random cells from 'X_train_fm'\n",
    "    \n",
    "    Parameters\n",
    "    df_column:      feature of pd.DataFrame or pd.Series with images\n",
    "    numb     :      number of images to display\n",
    "\n",
    "    Returns\n",
    "    images with keypoints\n",
    "    '''\n",
    "\n",
    "    # Generating a list with indicies of random cells:\n",
    "    rand_inx = np.random.randint(0, len(X_train_fm), numb, dtype='uint16')\n",
    "    \n",
    "    for i in range(num_images):\n",
    "\n",
    "        plt.subplot(1, numb, i+1)\n",
    "        plt.imshow(X_train.at[rand_inx[i], df_column.name], cmap= 'gray')\n",
    "        plt.scatter([X_train_fm[X_train_fm.columns[2*j]][i] for j in range(15)],[X_train_fm[X_train_fm.columns[2*j+1]][i] for j in range(15)],s=10,c='red', marker='x')"
   ]
  },
  {
   "cell_type": "code",
   "execution_count": 30,
   "metadata": {},
   "outputs": [
    {
     "data": {
      "image/png": "[encoded data removed]",
      "text/plain": [
       "<Figure size 432x288 with 3 Axes>"
      ]
     },
     "metadata": {
      "needs_background": "light"
     },
     "output_type": "display_data"
    }
   ],
   "source": [
    "print_image_with_keypoints(X_train_fm['Num_Image'], 3)"
   ]
  },
  {
   "cell_type": "code",
   "execution_count": 31,
   "metadata": {},
   "outputs": [],
   "source": [
    "# We try to retieve the color of the keypoint\n",
    "\n",
    "def find_keypoint_color(image, coor_left, coor_right):\n",
    "    \"\"\"\n",
    "    It finds a grayscale color-point by given coordinates.\n",
    "\n",
    "    Parameters:\n",
    "    image (array)   :  position of the array with size(96x96) in column 'Num_Image'\n",
    "    coor_left(float):  the x coordinate of the keypoint; \n",
    "    coor_left(float):  the y coordinate of the keypoint.\n",
    "\n",
    "    Return: \n",
    "    keypoint_color(int): color of the keypoint\n",
    "    \"\"\"\n",
    "    keypoint_color = image[int(coor_left),  int(coor_right) ]\n",
    "    return keypoint_color"
   ]
  },
  {
   "cell_type": "code",
   "execution_count": 32,
   "metadata": {},
   "outputs": [
    {
     "data": {
      "text/plain": [
       "186"
      ]
     },
     "execution_count": 32,
     "metadata": {},
     "output_type": "execute_result"
    }
   ],
   "source": [
    "# color in the keypoint with coordinates (x, y) -> (27.0215543839, 40.7064174958)\n",
    "# in the fact the coordinates are inted to (27, 41)\n",
    "find_keypoint_color(X_train.loc[1694, 'Num_Image'],27.0215543839, 40.7064174958)\n",
    "# 162\n",
    "\n",
    "# colors in the neighbor's positions:\n",
    "find_keypoint_color(X_train.loc[1694, 'Num_Image'],29, 41) \n",
    "# 163\n",
    "find_keypoint_color(X_train.loc[1694, 'Num_Image'],28, 41) \n",
    "# 167\n",
    "find_keypoint_color(X_train.loc[1694, 'Num_Image'],27, 41) \n",
    "# 162\n",
    "find_keypoint_color(X_train.loc[1694, 'Num_Image'],27, 40) \n",
    "# 178\n",
    "find_keypoint_color(X_train.loc[1694, 'Num_Image'],27, 39) \n",
    "# 186"
   ]
  },
  {
   "cell_type": "markdown",
   "metadata": {},
   "source": [
    "In the experiment above we notice that the color-indicies around a keypoint are very close.\n",
    "\n",
    "Now we want to difine targets and data for training for this targets.\n",
    "\n",
    "Our goal is to find a *similarity* between keyponts of all labeled images from given set and to applay this \n",
    "*similarity*(model) to unlabeled images doing predictions about there positions.\n",
    "\n",
    "Hence, we do first finding cluster around the keypoints."
   ]
  },
  {
   "cell_type": "markdown",
   "metadata": {},
   "source": [
    "### 2.2. Clustering\n",
    "\n",
    "In our case we have 15 keypoint what means we can do 15 centroides of image.\n",
    "\n",
    "Lets display the keypoint \"left_eye_center\" of image at row 0 in 'X_train' dataset:"
   ]
  },
  {
   "cell_type": "code",
   "execution_count": 35,
   "metadata": {},
   "outputs": [
    {
     "data": {
      "text/plain": [
       "<matplotlib.image.AxesImage at 0x1f89ded4cd0>"
      ]
     },
     "execution_count": 35,
     "metadata": {},
     "output_type": "execute_result"
    },
    {
     "data": {
      "image/png": "[encoded data removed]",
      "text/plain": [
       "<Figure size 432x288 with 1 Axes>"
      ]
     },
     "metadata": {
      "needs_background": "light"
     },
     "output_type": "display_data"
    }
   ],
   "source": [
    "plt.scatter([66], [39], c = 'orange', marker='v')\n",
    "plt.imshow(X_train.at[0, \"Num_Image\"], cmap= 'cividis')"
   ]
  },
  {
   "cell_type": "code",
   "execution_count": 36,
   "metadata": {},
   "outputs": [],
   "source": [
    "# Define 15 centroides\n",
    "\n",
    "def define_centroides(df: pd.DataFrame):\n",
    "    '''Defines 15 centroides of all images combining '_x' and '_y' coordinates of each keypoint\n",
    "\n",
    "    Parameter\n",
    "    df(pd.DataFrame):  a specific data frame with 30 columns\n",
    "\n",
    "    Return\n",
    "    seq(dict)       : x, y - coordinates of each centroid\n",
    "    '''\n",
    "\n",
    "    seq = []\n",
    "    for row in range(df.index.size):\n",
    "        key = row\n",
    "        for i in range(len(df.drop(columns=['Image','Num_Image' ]).columns)):\n",
    "            if i == 0:\n",
    "                continue\n",
    "            elif  i % 2 != 0 or i == 1: \n",
    "                coords = tuple(df.loc[row,[df.columns[i-1], df.columns[i]]].values)\n",
    "            else:\n",
    "\n",
    "                seq.extend(coords)\n",
    "\n",
    "    return seq\n",
    "\n",
    "# define_centroides(X_train_dropna)\n",
    "\n",
    "# KeyError: 210\n",
    "# after Debug there is still no solution because I can't find the problem ???"
   ]
  },
  {
   "cell_type": "code",
   "execution_count": 37,
   "metadata": {},
   "outputs": [],
   "source": [
    "X_train_set, X_test_set, y_train, y_test  = train_test_split(X, y, test_size= 0.15, random_state= 345)"
   ]
  },
  {
   "cell_type": "code",
   "execution_count": 38,
   "metadata": {},
   "outputs": [],
   "source": [
    "# Pairing of mean coordinates per columns between '_x' and '_y'\n",
    "# manualy done\n",
    "data_coords = [(66.22154868, 36.84227417),(29.64026856, 37.06381489),(59.2721281, 37.85601445),(73.41247343, 37.64010968),(36.60310652, 37.92085164),\n",
    "            (22.3616171 , 38.03457131),(56.14799093, 29.22230445),(79.61752317, 29.65657018),(39.27208386, 29.41374658),(15.76170725, 30.4529467),\n",
    "            (47.95214069, 57.25392567),(63.41907609, 75.88765965),(32.9673646, 76.13406537),(48.08132463, 72.68112455),(48.14965399, 82.63041245)]\n",
    "data_coords = np.array(data_coords)            "
   ]
  },
  {
   "cell_type": "code",
   "execution_count": 39,
   "metadata": {},
   "outputs": [],
   "source": [
    "my_kmeans = KMeans(n_clusters=15, init= data_coords)"
   ]
  },
  {
   "cell_type": "code",
   "execution_count": 40,
   "metadata": {},
   "outputs": [],
   "source": [
    "# my_kmeans.fit_predict(X)"
   ]
  },
  {
   "cell_type": "code",
   "execution_count": 41,
   "metadata": {},
   "outputs": [
    {
     "data": {
      "text/plain": [
       "KMeans(init=array([[66.22154868, 36.84227417],\n",
       "       [29.64026856, 37.06381489],\n",
       "       [59.2721281 , 37.85601445],\n",
       "       [73.41247343, 37.64010968],\n",
       "       [36.60310652, 37.92085164],\n",
       "       [22.3616171 , 38.03457131],\n",
       "       [56.14799093, 29.22230445],\n",
       "       [79.61752317, 29.65657018],\n",
       "       [39.27208386, 29.41374658],\n",
       "       [15.76170725, 30.4529467 ],\n",
       "       [47.95214069, 57.25392567],\n",
       "       [63.41907609, 75.88765965],\n",
       "       [32.9673646 , 76.13406537],\n",
       "       [48.08132463, 72.68112455],\n",
       "       [48.14965399, 82.63041245]]),\n",
       "       n_clusters=15)"
      ]
     },
     "execution_count": 41,
     "metadata": {},
     "output_type": "execute_result"
    }
   ],
   "source": [
    "my_kmeans"
   ]
  },
  {
   "cell_type": "code",
   "execution_count": 42,
   "metadata": {},
   "outputs": [],
   "source": [
    "# my_kmeans.fit(X_train_dropna.Num_Image[3])\n",
    "\n",
    "# ValueError: The shape of the initial centers (15, 2) does not match the number of features of the data 96."
   ]
  },
  {
   "cell_type": "code",
   "execution_count": 43,
   "metadata": {},
   "outputs": [],
   "source": [
    "from sklearn.svm import SVC, LinearSVC\n",
    "\n",
    "# linear_svm = LinearSVC()\n",
    "# linear_svm.fit(X= X, y= y)\n",
    "# AttributeError: 'bool' object has no attribute 'any'\n",
    "\n",
    "# my_svc = SVC(kernel=y)\n",
    "# my_svc.fit(X, y)\n",
    "# AttributeError: 'bool' object has no attribute 'any'"
   ]
  },
  {
   "cell_type": "markdown",
   "metadata": {},
   "source": [
    "After all trails its seems we have to prepare a **squared matrix** $(96$ x $96)$  and to put the coordinates in it.\n",
    "\n",
    "Then maybe we'll succeed to fit the models. :)\n"
   ]
  },
  {
   "cell_type": "code",
   "execution_count": 44,
   "metadata": {},
   "outputs": [
    {
     "name": "stdout",
     "output_type": "stream",
     "text": [
      "676704\n",
      "96\n",
      "len(images_total[0] is : 96\n"
     ]
    }
   ],
   "source": [
    "from scipy import sparse\n",
    "\n",
    "def fill_coords_matrix(df):\n",
    "    '''It creates an numpy array with spar-matrix(96x96 matrix). the zeros to be put before and after each coordinate in .\n",
    "\n",
    "    Parameter\n",
    "    df:     2D-array or pd.DataFrame with integers(between 0 and 95)\n",
    "\n",
    "    Return\n",
    "    images_total:  spar-matrix with 1(ones) at the positions of each coordinate.\n",
    "\n",
    "    Note\n",
    "    here we take '_y' as x-coordinate and '_x' as y-coordinate.\n",
    "    '''\n",
    "    count = 0\n",
    "    \n",
    "    images_total = []\n",
    "\n",
    "    for row in range(df.shape[0]):\n",
    "    # Initialize a zero matrix for an image    \n",
    "        image = np.array([[0]*96 for i in range(96)])\n",
    "\n",
    "    # If 'image_row' is equal to '_y'coordinate, then put 1 at position '_x'-coordinate \n",
    "        for image_row in range(96):\n",
    "            if image_row == int(df.at[row, \"left_eye_center_y\"]):\n",
    "                image[int(df.at[row, \"left_eye_center_y\"])][ int(df.at[row, \"left_eye_center_x\"])] = 1\n",
    "            elif image_row == int(df.at[row, \"right_eye_center_y\"]):\n",
    "                image[int(df.at[row, \"right_eye_center_y\"])][ int(df.at[row, \"right_eye_center_x\"])] = 1\n",
    "            elif image_row ==  int(df.at[row, \"left_eye_inner_corner_y\"]):\n",
    "                image[int(df.at[row, \"left_eye_inner_corner_y\"])][ int(df.at[row, \"left_eye_inner_corner_x\"])] = 1\n",
    "            \n",
    "            elif image_row ==int(df.at[row, \"left_eye_outer_corner_y\"]):\n",
    "                image[int(df.at[row, \"left_eye_outer_corner_y\"])][ int(df.at[row, \"left_eye_outer_corner_x\"])] = 1\n",
    "            elif image_row ==   int(df.at[row, \"right_eye_inner_corner_y\"]): \n",
    "                image[int(df.at[row, \"right_eye_inner_corner_y\"])][ int(df.at[row, \"right_eye_inner_corner_x\"])] = 1\n",
    "\n",
    "            elif image_row ==   int(df.at[row, \"right_eye_outer_corner_y\"]):\n",
    "                image[int(df.at[row, \"right_eye_outer_corner_y\"])][ int(df.at[row, \"right_eye_outer_corner_x\"])] = 1\n",
    "            elif image_row ==    int(df.at[row, \"left_eyebrow_inner_end_y\"]):\n",
    "                image[int(df.at[row, \"left_eyebrow_inner_end_y\"])][ int(df.at[row, \"left_eyebrow_inner_end_x\"])] = 1\n",
    "            elif image_row ==    int(df.at[row, \"left_eyebrow_outer_end_y\"]):\n",
    "                image[int(df.at[row, \"left_eyebrow_outer_end_y\"])][ int(df.at[row, \"left_eyebrow_outer_end_x\"])] = 1\n",
    "            elif image_row ==    int(df.at[row, \"right_eyebrow_inner_end_y\"]):\n",
    "                image[int(df.at[row, \"right_eyebrow_inner_end_y\"])][ int(df.at[row, \"right_eyebrow_inner_end_x\"])] = 1\n",
    "            elif image_row ==    int(df.at[row, \"right_eyebrow_outer_end_y\"]):\n",
    "                image[int(df.at[row, \"right_eyebrow_outer_end_y\"])][ int(df.at[row, \"right_eyebrow_outer_end_x\"])] = 1\n",
    "            elif image_row ==    int(df.at[row, \"nose_tip_y\"]):\n",
    "                image[int(df.at[row, \"nose_tip_y\"])][ int(df.at[row, \"nose_tip_x\"])] = 1\n",
    "            elif image_row == int(df.at[row, \"mouth_left_corner_y\"]):   \n",
    "                image[int(df.at[row, \"mouth_left_corner_y\"])][ int(df.at[row, \"mouth_left_corner_x\"])] = 1\n",
    "            elif image_row == int(df.at[row, \"mouth_right_corner_y\"]):   \n",
    "                image[int(df.at[row, \"mouth_right_corner_y\"])][ int(df.at[row, \"mouth_right_corner_x\"])] = 1\n",
    "            elif image_row == int(df.at[row, \"mouth_center_top_lip_y\"]):   \n",
    "                image[int(df.at[row, \"mouth_center_top_lip_y\"])][ int(df.at[row, \"mouth_center_top_lip_x\"])] = 1\n",
    "            elif image_row == int(df.at[row, \"mouth_center_bottom_lip_y\"]):   \n",
    "                image[int(df.at[row, \"mouth_center_bottom_lip_y\"])][ int(df.at[row, \"mouth_center_bottom_lip_x\"])] = 1\n",
    "            count += 1\n",
    "        images_total.append(image)\n",
    "    print(count)  \n",
    "    print(len(images_total[0][0]))  # expected 96\n",
    "    print('len(images_total[0] is :',len(images_total[0]))  \n",
    "                                                             \n",
    "    \n",
    "    return np.array(images_total)  \n",
    "my_centroid_mtx = fill_coords_matrix(X_train_fm)"
   ]
  },
  {
   "cell_type": "code",
   "execution_count": 45,
   "metadata": {},
   "outputs": [
    {
     "data": {
      "text/plain": [
       "(96, 96)"
      ]
     },
     "execution_count": 45,
     "metadata": {},
     "output_type": "execute_result"
    }
   ],
   "source": [
    "my_centroid_mtx[704].shape"
   ]
  },
  {
   "cell_type": "code",
   "execution_count": 46,
   "metadata": {},
   "outputs": [
    {
     "data": {
      "text/plain": [
       "(96, 96)"
      ]
     },
     "execution_count": 46,
     "metadata": {},
     "output_type": "execute_result"
    }
   ],
   "source": [
    "median_centroid = my_centroid_mtx[(my_centroid_mtx.shape[0])//2]\n",
    "(96, 96)"
   ]
  },
  {
   "cell_type": "markdown",
   "metadata": {},
   "source": [
    "Test with KMeans"
   ]
  },
  {
   "cell_type": "code",
   "execution_count": 47,
   "metadata": {},
   "outputs": [],
   "source": [
    "my_kmeans_2 = KMeans(n_clusters=96, init=median_centroid)"
   ]
  },
  {
   "cell_type": "code",
   "execution_count": 48,
   "metadata": {},
   "outputs": [],
   "source": [
    "# my_kmeans_2.fit(X_train_set)\n",
    "\n",
    "# init=my_centroid_mtx\n",
    "# ValueError: Found array with dim 3. Estimator expected <= 2. \n",
    "\n",
    "# init=median_centroid\n",
    "# ValueError: The shape of the initial centers (96, 96) does not match the number of clusters 15.\n",
    "\n",
    "# When from n_clusters=15 to n_clusters=96\n",
    "# ValueError: The shape of the initial centers (96, 96) does not match the number of features of the data 30."
   ]
  },
  {
   "cell_type": "code",
   "execution_count": 49,
   "metadata": {},
   "outputs": [
    {
     "data": {
      "text/plain": [
       "(96, 96)"
      ]
     },
     "execution_count": 49,
     "metadata": {},
     "output_type": "execute_result"
    }
   ],
   "source": [
    "my_centroid_mtx.shape \n",
    "# (7049, 96, 96)\n",
    "\n",
    "X_train_set.shape\n",
    "# (5991, 30)\n",
    "\n",
    "median_centroid.shape"
   ]
  },
  {
   "cell_type": "markdown",
   "metadata": {},
   "source": [
    "Test with SVM algorithm"
   ]
  },
  {
   "cell_type": "code",
   "execution_count": 50,
   "metadata": {},
   "outputs": [],
   "source": [
    "my_lin_svc = LinearSVC(random_state=23)"
   ]
  },
  {
   "cell_type": "code",
   "execution_count": 51,
   "metadata": {},
   "outputs": [],
   "source": [
    "# my_lin_svc.fit(X_train_set[:30], y_train[:30])\n",
    "\n",
    "# X_train_set[:30]\n",
    "# 30 rows × 30 columns\n",
    "\n",
    "# y_train[:30].shape\n",
    "# (30,)\n",
    "\n",
    "# Again same problem\n",
    "# AttributeError: 'bool' object has no attribute 'any'"
   ]
  },
  {
   "cell_type": "markdown",
   "metadata": {},
   "source": [
    "Test with RandomForestClassifier"
   ]
  },
  {
   "cell_type": "code",
   "execution_count": 52,
   "metadata": {},
   "outputs": [],
   "source": [
    "# RamdomForest\n",
    "\n",
    "from sklearn.ensemble import RandomForestClassifier\n",
    "\n",
    "rdf = RandomForestClassifier(max_depth= 5)\n",
    "\n",
    "# rdf.fit(X_train_set[:30], y_train[:30])\n",
    "\n",
    "# AttributeError: 'bool' object has no attribute 'any'"
   ]
  },
  {
   "cell_type": "markdown",
   "metadata": {},
   "source": [
    "Test with kNN"
   ]
  },
  {
   "cell_type": "code",
   "execution_count": 53,
   "metadata": {},
   "outputs": [],
   "source": [
    "from sklearn.neighbors import KNeighborsClassifier\n",
    "\n",
    "# knn = KNeighborsClassifier(n_neighbors= 15, weights= median_centroid)\n",
    "\n",
    "# ValueError: The truth value of an array with more than one element is ambiguous. Use a.any() or a.all()"
   ]
  }
 ],
 "metadata": {
  "kernelspec": {
   "display_name": "Python 3.9.7 ('base')",
   "language": "python",
   "name": "python3"
  },
  "language_info": {
   "codemirror_mode": {
    "name": "ipython",
    "version": 3
   },
   "file_extension": ".py",
   "mimetype": "text/x-python",
   "name": "python",
   "nbconvert_exporter": "python",
   "pygments_lexer": "ipython3",
   "version": "3.9.7"
  },
  "orig_nbformat": 4,
  "vscode": {
   "interpreter": {
    "hash": "ad77cbc19c0b071476ef3faa520439fc9d5e4f0c04833f1b230528db7a63a946"
   }
  }
 },
 "nbformat": 4,
 "nbformat_minor": 2
}
